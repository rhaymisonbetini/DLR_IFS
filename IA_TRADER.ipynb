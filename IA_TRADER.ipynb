{
  "nbformat": 4,
  "nbformat_minor": 0,
  "metadata": {
    "colab": {
      "provenance": [],
      "machine_shape": "hm",
      "gpuType": "T4",
      "authorship_tag": "ABX9TyPDI7pE/qzl8AWwiZNaNx3e",
      "include_colab_link": true
    },
    "kernelspec": {
      "name": "python3",
      "display_name": "Python 3"
    },
    "language_info": {
      "name": "python"
    },
    "accelerator": "GPU"
  },
  "cells": [
    {
      "cell_type": "markdown",
      "metadata": {
        "id": "view-in-github",
        "colab_type": "text"
      },
      "source": [
        "<a href=\"https://colab.research.google.com/github/rhaymisonbetini/DLR_IFS/blob/main/IA_TRADER.ipynb\" target=\"_parent\"><img src=\"https://colab.research.google.com/assets/colab-badge.svg\" alt=\"Open In Colab\"/></a>"
      ]
    },
    {
      "cell_type": "code",
      "execution_count": 1,
      "metadata": {
        "colab": {
          "base_uri": "https://localhost:8080/"
        },
        "id": "yk8eK2qFbGBN",
        "outputId": "def2cbf7-688b-410d-d172-922d8748b43a"
      },
      "outputs": [
        {
          "output_type": "stream",
          "name": "stdout",
          "text": [
            "Requirement already satisfied: pandas-datareader in /usr/local/lib/python3.10/dist-packages (0.10.0)\n",
            "Requirement already satisfied: lxml in /usr/local/lib/python3.10/dist-packages (from pandas-datareader) (4.9.3)\n",
            "Requirement already satisfied: pandas>=0.23 in /usr/local/lib/python3.10/dist-packages (from pandas-datareader) (1.5.3)\n",
            "Requirement already satisfied: requests>=2.19.0 in /usr/local/lib/python3.10/dist-packages (from pandas-datareader) (2.31.0)\n",
            "Requirement already satisfied: python-dateutil>=2.8.1 in /usr/local/lib/python3.10/dist-packages (from pandas>=0.23->pandas-datareader) (2.8.2)\n",
            "Requirement already satisfied: pytz>=2020.1 in /usr/local/lib/python3.10/dist-packages (from pandas>=0.23->pandas-datareader) (2023.3.post1)\n",
            "Requirement already satisfied: numpy>=1.21.0 in /usr/local/lib/python3.10/dist-packages (from pandas>=0.23->pandas-datareader) (1.23.5)\n",
            "Requirement already satisfied: charset-normalizer<4,>=2 in /usr/local/lib/python3.10/dist-packages (from requests>=2.19.0->pandas-datareader) (3.3.2)\n",
            "Requirement already satisfied: idna<4,>=2.5 in /usr/local/lib/python3.10/dist-packages (from requests>=2.19.0->pandas-datareader) (3.6)\n",
            "Requirement already satisfied: urllib3<3,>=1.21.1 in /usr/local/lib/python3.10/dist-packages (from requests>=2.19.0->pandas-datareader) (2.0.7)\n",
            "Requirement already satisfied: certifi>=2017.4.17 in /usr/local/lib/python3.10/dist-packages (from requests>=2.19.0->pandas-datareader) (2023.11.17)\n",
            "Requirement already satisfied: six>=1.5 in /usr/local/lib/python3.10/dist-packages (from python-dateutil>=2.8.1->pandas>=0.23->pandas-datareader) (1.16.0)\n"
          ]
        }
      ],
      "source": [
        "!pip install pandas-datareader\n",
        "!pip install -q yfinance"
      ]
    },
    {
      "cell_type": "code",
      "source": [
        "import math\n",
        "import random\n",
        "import numpy as np\n",
        "import pandas as pd\n",
        "import tensorflow as tf\n",
        "import matplotlib.pyplot as plt\n",
        "import pandas_datareader as data_reader\n",
        "import yfinance as yf\n",
        "from tqdm import tqdm_notebook, tqdm\n",
        "from collections import deque"
      ],
      "metadata": {
        "id": "AALd14h7bTDq"
      },
      "execution_count": 7,
      "outputs": []
    },
    {
      "cell_type": "code",
      "source": [
        "class Trader():\n",
        "    def __init__(self, state_size, action_space = 3, model_name = \"Trader\"):\n",
        "        self.state_size = state_size\n",
        "        self.action_space = action_space\n",
        "        self.model_name = model_name\n",
        "        self.memory = deque(maxlen = 1000)\n",
        "        self.gamma = 0.95\n",
        "        self.epsilon = 1.0\n",
        "        self.epsilon_final = 0.01\n",
        "        self.epsilon_decay = 0.995\n",
        "        self.model = self.model_builder\n",
        "\n",
        "    def model_builder(self):\n",
        "      model = tf.keras.models.Sequential()\n",
        "      model.add(tf.keras.layers.Dense(units = 32, activation = \"relu\", input_dim = self.state_size))\n",
        "      model.add(tf.keras.layers.Dense(units = 64, activation = \"relu\"))\n",
        "      model.add(tf.keras.layers.Dense(units = 128, activation = \"relu\"))\n",
        "      model.add(tf.keras.layers.Dense(units=self.action_space, activation = \"linear\"))\n",
        "      model.compile(loss = \"mse\", optimizer = tf.keras.optimizers.Adam(lr = 0.001))\n",
        "      return model\n",
        "\n",
        "    def trade(self, state):\n",
        "        if random.random() <= self.epsilon:\n",
        "            return random.randrange(self.action_space)\n",
        "        actions = self.model.predict(state)\n",
        "        return np.argmax(actions[0])\n",
        "\n",
        "    def batch_train(self, batch_size):\n",
        "        batch = []\n",
        "        for i in range(len(self.memory) - batch_size + 1, len(self.memory)):\n",
        "            batch.append(self.memory[i])\n",
        "        for state, action, reward, next_state, done in batch:\n",
        "            if not done:\n",
        "                reward = reward + self.gamma * np.amax(self.model.predict(next_state)[0])\n",
        "            target = self.model.predict(state)\n",
        "            target[0][action] = reward\n",
        "            self.model.fit(state, target, epochs = 1, verbose = 0)\n",
        "        if self.epsilon > self.epsilon_final:\n",
        "            self.epsilon *= self.epsilon_decay"
      ],
      "metadata": {
        "id": "6O_p51mGeEQH"
      },
      "execution_count": 3,
      "outputs": []
    },
    {
      "cell_type": "code",
      "source": [
        "def sigmoid(x):\n",
        "    return 1 / (1 + math.exp(-x))"
      ],
      "metadata": {
        "id": "8Tu2NtSL3wvi"
      },
      "execution_count": 4,
      "outputs": []
    },
    {
      "cell_type": "code",
      "source": [
        "def stocks_price_format(n):\n",
        "    if n < 0:\n",
        "        return \"- $ {0:2f}\".format(abs(n))\n",
        "    else:\n",
        "        return \"$ {0:2f}\".format(abs(n))"
      ],
      "metadata": {
        "id": "xUYeWSfC7f7g"
      },
      "execution_count": 5,
      "outputs": []
    },
    {
      "cell_type": "code",
      "source": [
        "def dataset_loader(stock_name):\n",
        "  dataset = yf.download(stock_name, start='2016-06-02')\n",
        "  start_date = str(dataset.index[0]).split()[0]\n",
        "  end_date = str(dataset.index[-1]).split()[0]\n",
        "  close = dataset['Close']\n",
        "  return close"
      ],
      "metadata": {
        "colab": {
          "base_uri": "https://localhost:8080/"
        },
        "id": "Z0X3qlPM73Ft",
        "outputId": "f4087f4a-e599-496c-a344-52af9b4753f3"
      },
      "execution_count": 8,
      "outputs": [
        {
          "output_type": "stream",
          "name": "stdout",
          "text": [
            "\r[*********************100%%**********************]  1 of 1 completed\n"
          ]
        }
      ]
    },
    {
      "cell_type": "code",
      "source": [
        "def state_creator(data, timestep, window_size):\n",
        "  starting_id = timestep - window_size + 1\n",
        "  if starting_id >= 0:\n",
        "    windowed_data = data[starting_id: timestep + 1]\n",
        "  else:\n",
        "    windowed_data = - starting_id * [data[0]] + list(data[0:timestep + 1])\n",
        "  state = []\n",
        "  for i in range(window_size - 1):\n",
        "    state.append(sigmoid(windowed_data[i + 1] - windowed_data[i]))\n",
        "  return np.array([state])"
      ],
      "metadata": {
        "id": "WssnMSi_-nq5"
      },
      "execution_count": 11,
      "outputs": []
    }
  ]
}